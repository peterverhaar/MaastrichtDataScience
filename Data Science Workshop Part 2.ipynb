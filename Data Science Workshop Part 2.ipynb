{
 "cells": [
  {
   "cell_type": "code",
   "execution_count": null,
   "metadata": {},
   "outputs": [],
   "source": [
    "import sys\n",
    "!conda install --yes --prefix {sys.prefix} nltk\n",
    "!conda install --yes --prefix {sys.prefix} pandas\n",
    "!conda install --yes --prefix {sys.prefix} seaborn\n",
    "!conda install --yes --prefix {sys.prefix} gensim"
   ]
  },
  {
   "cell_type": "code",
   "execution_count": null,
   "metadata": {},
   "outputs": [],
   "source": [
    "import sys\n",
    "!{sys.executable} -m pip install nltk\n",
    "!{sys.executable} -m pip install pandas\n",
    "!{sys.executable} -m pip install seaborn\n",
    "!{sys.executable} -m pip install gensim"
   ]
  },
  {
   "cell_type": "markdown",
   "metadata": {},
   "source": [
    "# Tokenisation"
   ]
  },
  {
   "cell_type": "code",
   "execution_count": null,
   "metadata": {},
   "outputs": [],
   "source": [
    "import re\n",
    "import string\n",
    "\n",
    "# function to tokenise a string into words\n",
    "def tokenise( text ):\n",
    "    tokens = []\n",
    "    text = text.lower()\n",
    "    text = re.sub( '--' , ' -- ' , text)\n",
    "    words = re.split( r'\\s+' , text )\n",
    "    for w in words:\n",
    "        w = w.strip( string.punctuation )\n",
    "        if re.search( r\"[a-zA-Z']\" , w ):\n",
    "            tokens.append(w)\n",
    "    return tokens\n",
    "\n",
    "\n",
    "freq = dict()\n",
    "\n",
    "\n",
    "file = '766-0.txt'\n",
    "\n",
    "try:\n",
    "    text = open( file , encoding = 'utf-8' )\n",
    "except:\n",
    "    print( \"Cannot read \" + file + \" !\" )\n",
    "\n",
    "\n",
    "for line in text:\n",
    "    words = tokenise( line )\n",
    "    for w in words:\n",
    "        freq[w] = freq.get( w , 0 ) + 1\n",
    "\n",
    "sortedList = reversed( sorted( freq , key=lambda x: freq[x]) )\n",
    "\n",
    "for w in sortedList:\n",
    "    print( w + ' => ' + str( freq[w] ) )"
   ]
  },
  {
   "cell_type": "markdown",
   "metadata": {},
   "source": [
    "\n",
    "# A frequency list filtered using a list of stopwords"
   ]
  },
  {
   "cell_type": "code",
   "execution_count": null,
   "metadata": {},
   "outputs": [],
   "source": [
    "import urllib.request\n",
    "import re\n",
    "\n",
    "url = \"http://ir.dcs.gla.ac.uk/resources/linguistic_utils/stop_words\"\n",
    "\n",
    "request = urllib.request.urlopen(url)\n",
    "bytes = request.read()\n",
    "contents = bytes.decode(\"utf-8\")\n",
    "request.close()\n",
    "\n",
    "contents = re.sub( r'\\s+' , ' ' , contents )\n",
    "stopwords = re.split( ' ' , contents )\n",
    "\n",
    "freq = dict()\n",
    "\n",
    "\n",
    "file = '766-0.txt'\n",
    "\n",
    "try:\n",
    "    text = open( file , encoding = 'utf-8' )\n",
    "except:\n",
    "    print( \"Cannot read \" + file + \" !\" )\n",
    "\n",
    "\n",
    "for line in text:\n",
    "    words = tokenise( line )\n",
    "    for w in words:\n",
    "        if w not in stopwords:\n",
    "            freq[w] = freq.get( w , 0 ) + 1\n",
    "\n",
    "\n",
    "sortedList = reversed( sorted( freq , key=lambda x: freq[x]) )\n",
    "for w in sortedList:\n",
    "    print( w + ' => ' + str( freq[w] ) )\n"
   ]
  },
  {
   "cell_type": "markdown",
   "metadata": {},
   "source": [
    "\n",
    "# A word cloud"
   ]
  },
  {
   "cell_type": "code",
   "execution_count": null,
   "metadata": {},
   "outputs": [],
   "source": [
    "%matplotlib inline\n",
    "\n",
    "import matplotlib.pyplot as plt \n",
    "from wordcloud import WordCloud \n",
    "\n",
    "wordcloud = WordCloud( background_color=\"white\",  width=4500,height=4500, max_words= 100,relative_scaling=1,normalize_plurals=False).generate_from_frequencies(freq)\n",
    "\n",
    "\n",
    "plt.imshow(wordcloud, interpolation='bilinear')\n",
    "plt.axis(\"off\")\n",
    "plt.show()"
   ]
  },
  {
   "cell_type": "markdown",
   "metadata": {},
   "source": [
    "# A concordance"
   ]
  },
  {
   "cell_type": "code",
   "execution_count": null,
   "metadata": {},
   "outputs": [],
   "source": [
    "searchTerm = 'fire'\n",
    "\n",
    "file = '766-0.txt'\n",
    "\n",
    "try:\n",
    "    text = open( file , encoding = 'utf-8' )\n",
    "except:\n",
    "    print( \"Cannot read \" + file + \" !\" )\n",
    "    \n",
    "    \n",
    "concordance = []\n",
    "\n",
    "window = 30\n",
    "\n",
    "for line in text:\n",
    "    line = line.strip()\n",
    "    if re.search( regex , line , re.IGNORECASE ):\n",
    "\n",
    "        extract = ''\n",
    "\n",
    "        position = re.search( regex , line , re.IGNORECASE ).start()\n",
    "        start = position - len( searchTerm ) - window ;\n",
    "        fragmentLength = start + 2 * window  + len( searchTerm )\n",
    "        if fragmentLength > len( line ):\n",
    "            fragmentLength = len( line )\n",
    "\n",
    "        if start < 0:\n",
    "            whiteSpace = ''\n",
    "            i = 0\n",
    "            while i < abs(start):\n",
    "                whiteSpace += ' '\n",
    "                i += 1\n",
    "            extract = whiteSpace + line[ 0 : fragmentLength ]\n",
    "        else:\n",
    "            extract = line[ start : fragmentLength ]\n",
    "\n",
    "        if re.search( '\\w' , extract ) and re.search( regex , extract ):\n",
    "            concordance.append( extract )\n",
    "\n",
    "for c in concordance:\n",
    "    print(c)"
   ]
  },
  {
   "cell_type": "markdown",
   "metadata": {},
   "source": [
    "# NLTK Module\n",
    "\n",
    "The code below demonstrates the use of the methods sent_tokenize() from the nltk module. The code calculates data about the number of sentences in the opening paragraph from Hemingways novel *A Farewell to Arms*. Try to change the code in such a way that it can be used to produce counts of the number of sentences and the number of words in your own corpus."
   ]
  },
  {
   "cell_type": "code",
   "execution_count": null,
   "metadata": {},
   "outputs": [],
   "source": [
    "import nltk\n",
    "from nltk.tokenize import sent_tokenize, word_tokenize\n",
    "\n",
    "quote = '''\n",
    "In the late summer of that year we lived in a house in a village that looked across the river and the plain to the mountains. In the bed of the river there were pebbles and boulders, dry and white in the sun, and the water was clear and swiftly moving and blue in the channels. Troops went by the house and down the road and the dust they raised powdered the leaves of the trees. The trunks of the trees too were dusty and the leaves fell early that year and we saw the troops marching along the road and the dust rising and leaves, stirred by the breeze, falling and the soldiers marching and afterward the road bare and white except for the leaves.\n",
    "'''\n",
    "\n",
    "\n",
    "sentences = sent_tokenize(quote)\n",
    "\n",
    "print( len(sentences) )\n",
    "\n",
    "for s in sentences:\n",
    "    print(s)\n",
    "    "
   ]
  },
  {
   "cell_type": "markdown",
   "metadata": {},
   "source": [
    "# POS Tagging\n",
    "\n",
    "The code below demonstrates the use of the function pos_tag(), which can be used to generate part of speech tags. Using the code below as a basis, try to produce counts of the number of nouns in the text (either singular or plural). The codes for nouns are 'NN', 'NNP', 'NNS' and 'NNPS'. See also https://www.ling.upenn.edu/courses/Fall_2003/ling001/penn_treebank_pos.html"
   ]
  },
  {
   "cell_type": "code",
   "execution_count": null,
   "metadata": {},
   "outputs": [],
   "source": [
    "import nltk\n",
    "\n",
    "quote = '''\n",
    "The studio was filled with the rich odour of roses, and when the light summer wind stirred amidst the trees of the garden, there came through the open door the heavy scent of the lilac, or the more delicate perfume of the pink-flowering thorn.\n",
    "'''\n",
    "\n",
    "words = word_tokenize(quote)\n",
    "pos = nltk.pos_tag(words)\n",
    "\n",
    "for p in pos:\n",
    "    print(p[0] + ' => ' + p[1] )"
   ]
  },
  {
   "cell_type": "markdown",
   "metadata": {},
   "source": [
    "# Lemmatisation\n",
    "\n",
    "Lemmatisation is a process in which the conjugated forms of the words that are found in a text are converted to their base dictionary form. This base form is referred to as the lemma. Using the code below as a basis, try to produce a lemmatised version of one of the texts in your own corpus."
   ]
  },
  {
   "cell_type": "code",
   "execution_count": null,
   "metadata": {},
   "outputs": [],
   "source": [
    "import nltk\n",
    "from nltk.stem import WordNetLemmatizer\n",
    "from nltk.tokenize import sent_tokenize, word_tokenize\n",
    "import re\n",
    "\n",
    "lemmatiser = WordNetLemmatizer()\n",
    "\n",
    "quote = \"It was the best of times, it was the worst of times\"\n",
    "\n",
    "words = words = word_tokenize(quote)\n",
    "(quote)\n",
    "pos = nltk.pos_tag(words)\n",
    "\n",
    "for i in range( 0 , len(words) ):\n",
    "    posTag = ''\n",
    "    if re.search( '^v' ,  pos[i][1] , re.IGNORECASE ):\n",
    "        posTag = 'v'\n",
    "    elif re.search( '^j', pos[i][1] , re.IGNORECASE ):\n",
    "        posTag = 'a'\n",
    "        \n",
    "\n",
    "    if posTag == 'v' or posTag == 'v':\n",
    "        print( words[i] + ' => ' + \n",
    "           lemmatiser.lemmatize( words[i] , posTag ) )\n",
    "    else:\n",
    "        print( words[i] + ' => ' + \n",
    "            lemmatiser.lemmatize( words[i] ) )"
   ]
  },
  {
   "cell_type": "markdown",
   "metadata": {},
   "source": [
    "# Regular expressions\n",
    "\n",
    "Can you find all the hashtags and all the user names in the tweets that were downloaded during part 1 of the workshop?"
   ]
  },
  {
   "cell_type": "code",
   "execution_count": null,
   "metadata": {},
   "outputs": [],
   "source": [
    "import re\n",
    "\n",
    "tweets = open('tweets.txt')\n",
    "\n",
    "twitterUsers = dict()\n",
    "tags = dict()\n",
    "\n",
    "for t in tweets:\n",
    "    ## Enter regular expression as first parameter of findall()\n",
    "    users = re.findall( r'' , t)\n",
    "    for u in users:\n",
    "        twitterUsers[u] = twitterUsers.get( u , 0 ) + 1\n",
    "\n",
    "    hashTags = re.findall( r'' , t)\n",
    "    for h in hashTags:\n",
    "        tags[h] = tags.get( h , 0 ) + 1\n",
    "\n",
    "for u in twitterUsers:\n",
    "    print(u)\n",
    "\n",
    "for ht in tags:\n",
    "    print(ht)\n"
   ]
  },
  {
   "cell_type": "markdown",
   "metadata": {},
   "source": [
    "# Regular expressions in Ulysses\n",
    "\n",
    "Download the novel *Ulysses* from Project Gutenberg, using the code below."
   ]
  },
  {
   "cell_type": "code",
   "execution_count": null,
   "metadata": {},
   "outputs": [],
   "source": [
    "\n",
    "import urllib.request\n",
    "import re\n",
    "import time\n",
    "\n",
    "def download( url ):\n",
    "\n",
    "    request = urllib.request.urlopen(url)\n",
    "    bytes = request.read()\n",
    "    fullText = bytes.decode(\"utf-8\")\n",
    "    request.close()\n",
    "\n",
    "    parts = re.split( '/' , url )\n",
    "    id = parts[-1]\n",
    "\n",
    "    out = open( id , 'w' , encoding = 'utf-8')\n",
    "    out.write( fullText )\n",
    "    out.close()\n",
    "    time.sleep( 3 )\n",
    "\n",
    "\n",
    "download('http://www.gutenberg.org/files/4300/4300-0.txt')\n"
   ]
  },
  {
   "cell_type": "markdown",
   "metadata": {},
   "source": [
    "In this novel, find all the text fragments containing a year (e.g. the sentence “What reflection concerning the irregular sequence of dates 1884, 1885, 1886, 1888, 1892, 1893, 1904 did Bloom make before their arrival at their destination?”)"
   ]
  },
  {
   "cell_type": "code",
   "execution_count": null,
   "metadata": {},
   "outputs": [],
   "source": [
    "import re\n",
    "\n",
    "novel = open(\"4300-0.txt\" , encoding='utf-8')\n",
    "lines = []\n",
    "\n",
    "\n",
    "for line in novel:\n",
    "    lines.append(line)\n",
    "\n",
    "\n",
    "\n",
    "for line in lines:\n",
    "    if re.search( r'\\d{4}' , line ):\n",
    "        print( line )\n"
   ]
  },
  {
   "cell_type": "markdown",
   "metadata": {},
   "source": [
    "Find fragments in which Joyce chose the dramatic form, or, more specifically, lines which begin with the name of a speaker in capitals, followed directly by a colon."
   ]
  },
  {
   "cell_type": "code",
   "execution_count": null,
   "metadata": {},
   "outputs": [],
   "source": [
    "for line in lines:\n",
    "    if re.search( r'[A-Z]+:' , line ):\n",
    "        print(line)"
   ]
  },
  {
   "cell_type": "markdown",
   "metadata": {},
   "source": [
    "Find all the lines which contain either the singular or the plural form of \"star\"."
   ]
  },
  {
   "cell_type": "code",
   "execution_count": null,
   "metadata": {},
   "outputs": [],
   "source": [
    "for line in lines:\n",
    "    if re.search( r'\\bstars?\\b' , line ):\n",
    "        print( line )"
   ]
  },
  {
   "cell_type": "markdown",
   "metadata": {},
   "source": [
    "Find passages which contain at least two words that begin with \"br\""
   ]
  },
  {
   "cell_type": "code",
   "execution_count": null,
   "metadata": {},
   "outputs": [],
   "source": [
    "for line in lines:\n",
    "    if re.search( r'\\bbr.+\\bbr.*' , line ):\n",
    "        print( line )"
   ]
  },
  {
   "cell_type": "markdown",
   "metadata": {},
   "source": [
    "# Pandas\n",
    "\n",
    "Using the pandas library, open the csv file named 'vanGogh.csv' and print the following:\n",
    "\n",
    "* information about the number of rows and the number of columns\n",
    "* print the first 3 rows\n",
    "* print a list of all column names"
   ]
  },
  {
   "cell_type": "code",
   "execution_count": 58,
   "metadata": {},
   "outputs": [
    {
     "name": "stdout",
     "output_type": "stream",
     "text": [
      "(714, 14)\n",
      "                                              from      to  date      year  \\\n",
      "1 'Vincent van Gogh' 'Theo van Gogh'   '29-9-1872'  '1872'   570  0.568421   \n",
      "2 'Vincent van Gogh' 'Theo van Gogh'  '13-12-1872'  '1872'   432  0.583333   \n",
      "\n",
      "                                      tokens  sentences  syllables     nouns  \\\n",
      "1 'Vincent van Gogh' 'Theo van Gogh'      40        825   0.507018  0.073684   \n",
      "2 'Vincent van Gogh' 'Theo van Gogh'      28        544   0.537037  0.085648   \n",
      "\n",
      "                                      adjectives   adverbs     death  \\\n",
      "1 'Vincent van Gogh' 'Theo van Gogh'    0.026316  7.046447  0.001754   \n",
      "2 'Vincent van Gogh' 'Theo van Gogh'    0.039352  5.286402  0.000000   \n",
      "\n",
      "                                       fatigue  depression  indifference  \n",
      "1 'Vincent van Gogh' 'Theo van Gogh'  0.001754    0.001754      0.000000  \n",
      "2 'Vincent van Gogh' 'Theo van Gogh'  0.000000    0.000000      0.002315  \n",
      "Index(['from', 'to', 'date', 'year', 'tokens', 'sentences', 'syllables',\n",
      "       'nouns', 'adjectives', 'adverbs', 'death', 'fatigue', 'depression',\n",
      "       'indifference'],\n",
      "      dtype='object')\n"
     ]
    },
    {
     "ename": "KeyError",
     "evalue": "'title'",
     "output_type": "error",
     "traceback": [
      "\u001b[0;31m---------------------------------------------------------------------------\u001b[0m",
      "\u001b[0;31mKeyError\u001b[0m                                  Traceback (most recent call last)",
      "\u001b[0;32m/anaconda3/lib/python3.7/site-packages/pandas/core/indexes/base.py\u001b[0m in \u001b[0;36mget_loc\u001b[0;34m(self, key, method, tolerance)\u001b[0m\n\u001b[1;32m   2656\u001b[0m             \u001b[0;32mtry\u001b[0m\u001b[0;34m:\u001b[0m\u001b[0;34m\u001b[0m\u001b[0;34m\u001b[0m\u001b[0m\n\u001b[0;32m-> 2657\u001b[0;31m                 \u001b[0;32mreturn\u001b[0m \u001b[0mself\u001b[0m\u001b[0;34m.\u001b[0m\u001b[0m_engine\u001b[0m\u001b[0;34m.\u001b[0m\u001b[0mget_loc\u001b[0m\u001b[0;34m(\u001b[0m\u001b[0mkey\u001b[0m\u001b[0;34m)\u001b[0m\u001b[0;34m\u001b[0m\u001b[0;34m\u001b[0m\u001b[0m\n\u001b[0m\u001b[1;32m   2658\u001b[0m             \u001b[0;32mexcept\u001b[0m \u001b[0mKeyError\u001b[0m\u001b[0;34m:\u001b[0m\u001b[0;34m\u001b[0m\u001b[0;34m\u001b[0m\u001b[0m\n",
      "\u001b[0;32mpandas/_libs/index.pyx\u001b[0m in \u001b[0;36mpandas._libs.index.IndexEngine.get_loc\u001b[0;34m()\u001b[0m\n",
      "\u001b[0;32mpandas/_libs/index.pyx\u001b[0m in \u001b[0;36mpandas._libs.index.IndexEngine.get_loc\u001b[0;34m()\u001b[0m\n",
      "\u001b[0;32mpandas/_libs/hashtable_class_helper.pxi\u001b[0m in \u001b[0;36mpandas._libs.hashtable.PyObjectHashTable.get_item\u001b[0;34m()\u001b[0m\n",
      "\u001b[0;32mpandas/_libs/hashtable_class_helper.pxi\u001b[0m in \u001b[0;36mpandas._libs.hashtable.PyObjectHashTable.get_item\u001b[0;34m()\u001b[0m\n",
      "\u001b[0;31mKeyError\u001b[0m: 'title'",
      "\nDuring handling of the above exception, another exception occurred:\n",
      "\u001b[0;31mKeyError\u001b[0m                                  Traceback (most recent call last)",
      "\u001b[0;32m<ipython-input-58-4ec189af294f>\u001b[0m in \u001b[0;36m<module>\u001b[0;34m\u001b[0m\n\u001b[1;32m      7\u001b[0m \u001b[0mprint\u001b[0m\u001b[0;34m(\u001b[0m \u001b[0mdf\u001b[0m\u001b[0;34m.\u001b[0m\u001b[0mcolumns\u001b[0m \u001b[0;34m)\u001b[0m\u001b[0;34m\u001b[0m\u001b[0;34m\u001b[0m\u001b[0m\n\u001b[1;32m      8\u001b[0m \u001b[0;34m\u001b[0m\u001b[0m\n\u001b[0;32m----> 9\u001b[0;31m \u001b[0mprint\u001b[0m\u001b[0;34m(\u001b[0m \u001b[0mdf\u001b[0m\u001b[0;34m[\u001b[0m\u001b[0;34m'title'\u001b[0m\u001b[0;34m]\u001b[0m \u001b[0;34m)\u001b[0m\u001b[0;34m\u001b[0m\u001b[0;34m\u001b[0m\u001b[0m\n\u001b[0m",
      "\u001b[0;32m/anaconda3/lib/python3.7/site-packages/pandas/core/frame.py\u001b[0m in \u001b[0;36m__getitem__\u001b[0;34m(self, key)\u001b[0m\n\u001b[1;32m   2925\u001b[0m             \u001b[0;32mif\u001b[0m \u001b[0mself\u001b[0m\u001b[0;34m.\u001b[0m\u001b[0mcolumns\u001b[0m\u001b[0;34m.\u001b[0m\u001b[0mnlevels\u001b[0m \u001b[0;34m>\u001b[0m \u001b[0;36m1\u001b[0m\u001b[0;34m:\u001b[0m\u001b[0;34m\u001b[0m\u001b[0;34m\u001b[0m\u001b[0m\n\u001b[1;32m   2926\u001b[0m                 \u001b[0;32mreturn\u001b[0m \u001b[0mself\u001b[0m\u001b[0;34m.\u001b[0m\u001b[0m_getitem_multilevel\u001b[0m\u001b[0;34m(\u001b[0m\u001b[0mkey\u001b[0m\u001b[0;34m)\u001b[0m\u001b[0;34m\u001b[0m\u001b[0;34m\u001b[0m\u001b[0m\n\u001b[0;32m-> 2927\u001b[0;31m             \u001b[0mindexer\u001b[0m \u001b[0;34m=\u001b[0m \u001b[0mself\u001b[0m\u001b[0;34m.\u001b[0m\u001b[0mcolumns\u001b[0m\u001b[0;34m.\u001b[0m\u001b[0mget_loc\u001b[0m\u001b[0;34m(\u001b[0m\u001b[0mkey\u001b[0m\u001b[0;34m)\u001b[0m\u001b[0;34m\u001b[0m\u001b[0;34m\u001b[0m\u001b[0m\n\u001b[0m\u001b[1;32m   2928\u001b[0m             \u001b[0;32mif\u001b[0m \u001b[0mis_integer\u001b[0m\u001b[0;34m(\u001b[0m\u001b[0mindexer\u001b[0m\u001b[0;34m)\u001b[0m\u001b[0;34m:\u001b[0m\u001b[0;34m\u001b[0m\u001b[0;34m\u001b[0m\u001b[0m\n\u001b[1;32m   2929\u001b[0m                 \u001b[0mindexer\u001b[0m \u001b[0;34m=\u001b[0m \u001b[0;34m[\u001b[0m\u001b[0mindexer\u001b[0m\u001b[0;34m]\u001b[0m\u001b[0;34m\u001b[0m\u001b[0;34m\u001b[0m\u001b[0m\n",
      "\u001b[0;32m/anaconda3/lib/python3.7/site-packages/pandas/core/indexes/base.py\u001b[0m in \u001b[0;36mget_loc\u001b[0;34m(self, key, method, tolerance)\u001b[0m\n\u001b[1;32m   2657\u001b[0m                 \u001b[0;32mreturn\u001b[0m \u001b[0mself\u001b[0m\u001b[0;34m.\u001b[0m\u001b[0m_engine\u001b[0m\u001b[0;34m.\u001b[0m\u001b[0mget_loc\u001b[0m\u001b[0;34m(\u001b[0m\u001b[0mkey\u001b[0m\u001b[0;34m)\u001b[0m\u001b[0;34m\u001b[0m\u001b[0;34m\u001b[0m\u001b[0m\n\u001b[1;32m   2658\u001b[0m             \u001b[0;32mexcept\u001b[0m \u001b[0mKeyError\u001b[0m\u001b[0;34m:\u001b[0m\u001b[0;34m\u001b[0m\u001b[0;34m\u001b[0m\u001b[0m\n\u001b[0;32m-> 2659\u001b[0;31m                 \u001b[0;32mreturn\u001b[0m \u001b[0mself\u001b[0m\u001b[0;34m.\u001b[0m\u001b[0m_engine\u001b[0m\u001b[0;34m.\u001b[0m\u001b[0mget_loc\u001b[0m\u001b[0;34m(\u001b[0m\u001b[0mself\u001b[0m\u001b[0;34m.\u001b[0m\u001b[0m_maybe_cast_indexer\u001b[0m\u001b[0;34m(\u001b[0m\u001b[0mkey\u001b[0m\u001b[0;34m)\u001b[0m\u001b[0;34m)\u001b[0m\u001b[0;34m\u001b[0m\u001b[0;34m\u001b[0m\u001b[0m\n\u001b[0m\u001b[1;32m   2660\u001b[0m         \u001b[0mindexer\u001b[0m \u001b[0;34m=\u001b[0m \u001b[0mself\u001b[0m\u001b[0;34m.\u001b[0m\u001b[0mget_indexer\u001b[0m\u001b[0;34m(\u001b[0m\u001b[0;34m[\u001b[0m\u001b[0mkey\u001b[0m\u001b[0;34m]\u001b[0m\u001b[0;34m,\u001b[0m \u001b[0mmethod\u001b[0m\u001b[0;34m=\u001b[0m\u001b[0mmethod\u001b[0m\u001b[0;34m,\u001b[0m \u001b[0mtolerance\u001b[0m\u001b[0;34m=\u001b[0m\u001b[0mtolerance\u001b[0m\u001b[0;34m)\u001b[0m\u001b[0;34m\u001b[0m\u001b[0;34m\u001b[0m\u001b[0m\n\u001b[1;32m   2661\u001b[0m         \u001b[0;32mif\u001b[0m \u001b[0mindexer\u001b[0m\u001b[0;34m.\u001b[0m\u001b[0mndim\u001b[0m \u001b[0;34m>\u001b[0m \u001b[0;36m1\u001b[0m \u001b[0;32mor\u001b[0m \u001b[0mindexer\u001b[0m\u001b[0;34m.\u001b[0m\u001b[0msize\u001b[0m \u001b[0;34m>\u001b[0m \u001b[0;36m1\u001b[0m\u001b[0;34m:\u001b[0m\u001b[0;34m\u001b[0m\u001b[0;34m\u001b[0m\u001b[0m\n",
      "\u001b[0;32mpandas/_libs/index.pyx\u001b[0m in \u001b[0;36mpandas._libs.index.IndexEngine.get_loc\u001b[0;34m()\u001b[0m\n",
      "\u001b[0;32mpandas/_libs/index.pyx\u001b[0m in \u001b[0;36mpandas._libs.index.IndexEngine.get_loc\u001b[0;34m()\u001b[0m\n",
      "\u001b[0;32mpandas/_libs/hashtable_class_helper.pxi\u001b[0m in \u001b[0;36mpandas._libs.hashtable.PyObjectHashTable.get_item\u001b[0;34m()\u001b[0m\n",
      "\u001b[0;32mpandas/_libs/hashtable_class_helper.pxi\u001b[0m in \u001b[0;36mpandas._libs.hashtable.PyObjectHashTable.get_item\u001b[0;34m()\u001b[0m\n",
      "\u001b[0;31mKeyError\u001b[0m: 'title'"
     ]
    }
   ],
   "source": [
    "import pandas as pd\n",
    "\n",
    "df = pd.read_csv( 'vanGogh.csv' )\n",
    "\n",
    "print( df.shape )\n",
    "print( df.head(2) )\n",
    "print( df.columns )\n",
    "\n",
    "print( df['title'] )"
   ]
  },
  {
   "cell_type": "markdown",
   "metadata": {},
   "source": [
    "Using the pandas library, calculate the correlations between the columns in your csv file. Additionally, print a list of the means of all the columns."
   ]
  },
  {
   "cell_type": "code",
   "execution_count": null,
   "metadata": {},
   "outputs": [],
   "source": [
    "mport pandas as pd\n",
    "\n",
    "df = pd.read_csv( 'vanGogh.csv' )\n",
    "\n",
    "print(df.mean())\n",
    "print(df.corr())"
   ]
  },
  {
   "cell_type": "markdown",
   "metadata": {},
   "source": [
    "Install the module 'seaborn'. Use the seaborn libraries and the pandas libraries to create a heatmap that visualises the correlations between all the columns in the data frame."
   ]
  },
  {
   "cell_type": "code",
   "execution_count": null,
   "metadata": {},
   "outputs": [],
   "source": [
    "%matplotlib inline\n",
    "\n",
    "import pandas as pd\n",
    "\n",
    "df = pd.read_csv( 'vanGogh.csv' )\n",
    "\n",
    "\n",
    "import seaborn as sns\n",
    "import matplotlib.pylab as plt\n",
    "\n",
    "\n",
    "ax = sns.heatmap( df.corr() , linewidth=0.5 , cmap=\"YlGnBu\" )\n",
    "plt.show()"
   ]
  },
  {
   "cell_type": "markdown",
   "metadata": {},
   "source": [
    "# Matplotlib\n",
    "\n",
    "A scatter plot"
   ]
  },
  {
   "cell_type": "code",
   "execution_count": null,
   "metadata": {},
   "outputs": [],
   "source": [
    "%matplotlib inline\n",
    "\n",
    "import pandas as pd\n",
    "\n",
    "df = pd.read_csv( 'vanGogh.csv' )\n",
    "    \n",
    "plt.style.use('seaborn-whitegrid')\n",
    "\n",
    "fig = plt.figure( )\n",
    "ax = plt.axes()\n",
    "\n",
    "ax.scatter( x.values() , y.values()  , alpha=0.8, edgecolors='none', s=30, label=None )\n",
    "ax.set_xlabel('Type-token ratio')\n",
    "ax.set_ylabel('Average nr of words')\n",
    "\n",
    "ax.set_title( 'Language of Vincent van Gogh')\n",
    "\n",
    "for label in x.keys():\n",
    "    ax.annotate( label , (x[label] , y[label] + 0.4))\n",
    "\n",
    "plt.show()"
   ]
  },
  {
   "cell_type": "markdown",
   "metadata": {},
   "source": [
    "\n",
    "A line chart"
   ]
  },
  {
   "cell_type": "code",
   "execution_count": null,
   "metadata": {},
   "outputs": [],
   "source": [
    "%matplotlib inline\n",
    "\n",
    "import pandas as pd\n",
    "\n",
    "df = pd.read_csv( 'vanGogh.csv' )\n",
    "    \n",
    "\n",
    "plt.style.use('seaborn-whitegrid')\n",
    "\n",
    "fig = plt.figure( )\n",
    "ax = plt.axes()\n",
    "\n",
    "ax.scatter( x.values() , y.values()  , alpha=0.8, edgecolors='none', s=30, label=None )\n",
    "ax.set_xlabel('Type-token ratio')\n",
    "ax.set_ylabel('Average nr of words')\n",
    "\n",
    "ax.set_title( 'Language of Vincent van Gogh')\n",
    "\n",
    "for label in x.keys():\n",
    "    ax.annotate( label , (x[label] , y[label] + 0.4))\n",
    "\n",
    "plt.show()"
   ]
  },
  {
   "cell_type": "code",
   "execution_count": null,
   "metadata": {},
   "outputs": [],
   "source": [
    "A bar chart"
   ]
  },
  {
   "cell_type": "code",
   "execution_count": null,
   "metadata": {},
   "outputs": [],
   "source": [
    "\n",
    "%matplotlib inline\n",
    "\n",
    "import matplotlib.pyplot as plt\n",
    "\n",
    "fig = plt.figure( figsize=( 12 , 5 ) )\n",
    "ax = plt.axes()\n",
    "\n",
    "ax.bar( mostFreq.keys() , mostFreq.values() , width = 0.9 , alpha = 0.5 , color = '#03017a')\n",
    "\n",
    "ax.set_xlabel('Words')\n",
    "ax.set_ylabel('Frequencies')\n",
    "ax.set_title( 'A Portrait of the Artist as a Young Man')\n",
    "\n",
    "## labels for the ticks on the X-axis need to \n",
    "## be shown vertically to improve the readability\n",
    "plt.xticks(rotation=90)\n",
    "\n",
    "plt.show()"
   ]
  },
  {
   "cell_type": "markdown",
   "metadata": {},
   "source": [
    "# Dispersion graph"
   ]
  },
  {
   "cell_type": "code",
   "execution_count": 54,
   "metadata": {},
   "outputs": [],
   "source": [
    "\n",
    "import urllib.request\n",
    "import re\n",
    "import time\n",
    "\n",
    "def download( url ):\n",
    "\n",
    "    request = urllib.request.urlopen(url)\n",
    "    bytes = request.read()\n",
    "    fullText = bytes.decode(\"utf-8\")\n",
    "    request.close()\n",
    "\n",
    "    parts = re.split( '/' , url )\n",
    "    id = parts[-1]\n",
    "\n",
    "    out = open( id , 'w' , encoding = 'utf-8')\n",
    "    out.write( fullText )\n",
    "    out.close()\n",
    "    time.sleep( 3 )\n",
    "\n",
    "\n",
    "download('https://raw.githubusercontent.com/peterverhaar/dtdp/master/Texts/APortraitOfTheArtist.txt')\n"
   ]
  },
  {
   "cell_type": "markdown",
   "metadata": {},
   "source": [
    "The following code divides the full text of Joyce’s novel A Portrait of the Artist into smaller segments. Each of these segments has the same length (i.e. they contain the exact same number of words). The number of segments is determined by the variable namd numberOfSegments. The code stores these segments in a list called segments. Once we have captured these different segments, we can calculate the frequencies of specific textual phenomena within these different segments. The code below calculates the frequencies of certain patterns using regular expressions, and using the findall() function of the ‘re’ module. Such counts can give us an impression of the dispersion of these phenomena across the full text. Add some code which can visualise the frequencies in each segment as a line chart. In order words, try to create a dispersion graph. Clarify the distribution of the following words:\n",
    "\n",
    "* god\n",
    "* artist, art or artistic\n",
    "* father\n",
    "* mother\n",
    "* young or youth\n",
    "* religion\n",
    "* catholic\n",
    "* ireland or irish\n",
    "* england or english"
   ]
  },
  {
   "cell_type": "code",
   "execution_count": 55,
   "metadata": {},
   "outputs": [
    {
     "data": {
      "image/png": "[encoded data removed]",
      "text/plain": [
       "<Figure size 864x288 with 1 Axes>"
      ]
     },
     "metadata": {},
     "output_type": "display_data"
    }
   ],
   "source": [
    "### code to divide the novel into segments.\n",
    "### The number of segments is determined by variable numberOfSegments\n",
    "\n",
    "import re\n",
    "\n",
    "numberOfSegments = 30\n",
    "segments = []\n",
    "\n",
    "novel = open('APortraitOfTheArtist.txt')\n",
    "\n",
    "## The read() function can read in the entire file as a single string\n",
    "fullText = novel.read()\n",
    "allWords = re.split( r'\\s+' , fullText )\n",
    "\n",
    "segmentSize = int( len(allWords) / numberOfSegments )\n",
    "\n",
    "countWords = 0 \n",
    "text = ''\n",
    "\n",
    "for word in allWords:\n",
    "    countWords += 1\n",
    "    text += word + ' ' \n",
    "    \n",
    "    ## This line below used the modulo operator:\n",
    "    ## We can use it to test if the first number is \n",
    "    ## divisible by the second number\n",
    "    if countWords % segmentSize == 0:\n",
    "        segments.append(text.strip())\n",
    "        text = ''\n",
    "\n",
    "        \n",
    "data = dict()\n",
    "        \n",
    "count = 0 \n",
    "for s in segments:\n",
    "    count += 1\n",
    "    hits = re.findall( r'\\bart(ist)?' , s , re.IGNORECASE )\n",
    "    data[ count ] = len( hits )\n",
    "    \n",
    "\n",
    "## This next line is needed to visualise the data within the Notebook\n",
    "%matplotlib inline\n",
    "\n",
    "import matplotlib.pyplot as plt\n",
    "\n",
    "plt.style.use('seaborn-whitegrid')\n",
    "\n",
    "fig = plt.figure( figsize=( 12 , 4 ) )\n",
    "ax = plt.axes()\n",
    "\n",
    "ax.plot( data.keys() , data.values() , color = '#930d08' , linestyle = 'solid')\n",
    "\n",
    "ax.set_xlabel('Section')\n",
    "ax.set_ylabel('Frequency')\n",
    "\n",
    "ax.set_title( 'A Portrait of the Artist')\n",
    "plt.show()"
   ]
  },
  {
   "cell_type": "markdown",
   "metadata": {},
   "source": [
    "The code below can be used to create a bar chart. Experiment with different values for the width, the colour and the opacity of the bars. Try to change the labels for the X-axis and the Y-axis as well."
   ]
  },
  {
   "cell_type": "code",
   "execution_count": 56,
   "metadata": {},
   "outputs": [
    {
     "data": {
      "image/png": "[encoded data removed]",
      "text/plain": [
       "<Figure size 864x360 with 1 Axes>"
      ]
     },
     "metadata": {
      "needs_background": "light"
     },
     "output_type": "display_data"
    }
   ],
   "source": [
    "import re\n",
    "import string\n",
    "\n",
    "textFile = 'APortraitOfTheArtist.txt'\n",
    "maxNrWords = 50\n",
    "\n",
    "## function to tokenise a string into words\n",
    "def tokenise( text ):\n",
    "    tokens = []\n",
    "    text = text.lower()\n",
    "    text = re.sub( '--' , ' -- ' , text)\n",
    "    words = re.split( r'\\s+' , text )\n",
    "    for w in words:\n",
    "        w = w.strip( string.punctuation )\n",
    "        if re.search( r\"[a-zA-Z']\" , w ):\n",
    "            tokens.append(w)\n",
    "    return tokens\n",
    "\n",
    "novel = open( textFile )\n",
    "\n",
    "## Calculate the frequencies of all the words\n",
    "freq = dict()\n",
    "\n",
    "for paragraph in novel:\n",
    "    words = tokenise(paragraph)\n",
    "    for w in words:\n",
    "        freq[w] = freq.get(w,0)+1\n",
    "            \n",
    "\n",
    "## determine the 50 most frequent words, and \n",
    "## place these in a dictionary named mostFreq()\n",
    "\n",
    "sortedWords = reversed( sorted( freq , key=lambda x: freq[x]) )\n",
    "mostFreq = dict()\n",
    "\n",
    "count = 0 \n",
    "for w in sortedWords:\n",
    "    mostFreq[w] = freq[w]\n",
    "    count += 1\n",
    "    if count == maxNrWords:\n",
    "        break\n",
    "        \n",
    "\n",
    "%matplotlib inline\n",
    "\n",
    "import matplotlib.pyplot as plt\n",
    "\n",
    "fig = plt.figure( figsize=( 12 , 5 ) )\n",
    "ax = plt.axes()\n",
    "\n",
    "ax.bar( mostFreq.keys() , mostFreq.values() , width = 0.9 , alpha = 0.5 , color = '#03017a')\n",
    "\n",
    "ax.set_xlabel('Words')\n",
    "ax.set_ylabel('Frequencies')\n",
    "ax.set_title( 'A Portrait of the Artist as a Young Man')\n",
    "\n",
    "## labels for the ticks on the X-axis need to \n",
    "## be shown vertically to improve the readability\n",
    "plt.xticks(rotation=90)\n",
    "\n",
    "plt.show()"
   ]
  },
  {
   "cell_type": "markdown",
   "metadata": {},
   "source": [
    "# Data exploration exercise\n",
    "\n",
    "Go to kaggle.com and download a CSV file. Try to explore the data using the code that has been illustrated in this notebook.\n",
    "\n",
    "Possible data sets:\n",
    "\n",
    "* Nobel Laureates, 1900 - present https://www.kaggle.com/nobelfoundation/nobel-laureates\n",
    "* Wine reviews, https://www.kaggle.com/zynicide/wine-reviews"
   ]
  },
  {
   "cell_type": "code",
   "execution_count": null,
   "metadata": {},
   "outputs": [],
   "source": []
  },
  {
   "cell_type": "code",
   "execution_count": null,
   "metadata": {},
   "outputs": [],
   "source": []
  },
  {
   "cell_type": "code",
   "execution_count": null,
   "metadata": {},
   "outputs": [],
   "source": [
    "import gensim\n",
    "\n",
    "word2vec_model_file = \"egodocumenten.txt\"\n",
    "ed_model = gensim.models.KeyedVectors.load( word2vec_model_file )"
   ]
  },
  {
   "cell_type": "code",
   "execution_count": null,
   "metadata": {},
   "outputs": [],
   "source": []
  },
  {
   "cell_type": "code",
   "execution_count": null,
   "metadata": {},
   "outputs": [],
   "source": [
    "for word in ('java','soldaat','japanner','molukken'):\n",
    "    if word in ed_model:\n",
    "        print(word,ed_model.most_similar(word))"
   ]
  }
 ],
 "metadata": {
  "kernelspec": {
   "display_name": "Python 3",
   "language": "python",
   "name": "python3"
  },
  "language_info": {
   "codemirror_mode": {
    "name": "ipython",
    "version": 3
   },
   "file_extension": ".py",
   "mimetype": "text/x-python",
   "name": "python",
   "nbconvert_exporter": "python",
   "pygments_lexer": "ipython3",
   "version": "3.7.2"
  }
 },
 "nbformat": 4,
 "nbformat_minor": 2
}
