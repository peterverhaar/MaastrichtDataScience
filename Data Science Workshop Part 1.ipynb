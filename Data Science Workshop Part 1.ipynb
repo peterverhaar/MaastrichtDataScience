{
 "cells": [
  {
   "cell_type": "markdown",
   "metadata": {},
   "source": [
    "This notebook makes use of the following modules: \n",
    "\n",
    "* urlib\n",
    "* time\n",
    "* os\n",
    "* xml\n",
    "\n",
    "These modules can be installed by running either one of the cells below. "
   ]
  },
  {
   "cell_type": "code",
   "execution_count": null,
   "metadata": {},
   "outputs": [],
   "source": [
    "import sys\n",
    "!{sys.executable} -m pip install Twython"
   ]
  },
  {
   "cell_type": "code",
   "execution_count": null,
   "metadata": {},
   "outputs": [],
   "source": [
    "import sys\n",
    "!conda install --yes --prefix {sys.prefix} urllib\n",
    "!conda install --yes --prefix {sys.prefix} time\n",
    "!conda install --yes --prefix {sys.prefix} Twython"
   ]
  },
  {
   "cell_type": "markdown",
   "metadata": {},
   "source": [
    "# A guessing game\n",
    "\n",
    "The code below contains the code for a simple game in which the user needs to guess a number in between 1 and 50. \n",
    "\n",
    "The standard function input() can be used to request a value from the user. The function int() converts the input into an integer, if possible. The code also use of ‘for’ and of ‘while’. When the user enters a value which is too low or too high, this information is communicated to the user via a print statement. "
   ]
  },
  {
   "cell_type": "code",
   "execution_count": null,
   "metadata": {},
   "outputs": [],
   "source": [
    "number = 17\n",
    "\n",
    "guess = int( input(\"Guess a number in between 1 and 50: \") )\n",
    "\n",
    "while guess != number:\n",
    "\n",
    "    if guess > number:\n",
    "        print(\"Lower!\")\n",
    "    elif guess < number:\n",
    "        print(\"Higher!\")\n",
    "    guess = int( input(\"Guess again!: \") )\n",
    "\n",
    "print(\"The correct number is indeed {}.\".format(number) )"
   ]
  },
  {
   "cell_type": "markdown",
   "metadata": {},
   "source": [
    "# Data acquisition\n",
    "\n",
    "The methode urlopen(), from the module urllib.request can be used to download files from the web. The code in the cell below downloads a given text from project Gutenberg."
   ]
  },
  {
   "cell_type": "code",
   "execution_count": null,
   "metadata": {},
   "outputs": [],
   "source": [
    "import urllib.request\n",
    "\n",
    "\n",
    "url = \"http://www.gutenberg.org/files/98/98-0.txt\"\n",
    "\n",
    "request = urllib.request.urlopen(url)\n",
    "bytes = request.read()\n",
    "contents = bytes.decode(\"utf-8\")\n",
    "request.close()\n",
    "\n",
    "print(contents)\n"
   ]
  },
  {
   "cell_type": "markdown",
   "metadata": {},
   "source": [
    "The code below cownloads a collection of texts. When you run the code, the texts are saved on your computer, in the same folder as this notebook."
   ]
  },
  {
   "cell_type": "code",
   "execution_count": null,
   "metadata": {},
   "outputs": [],
   "source": [
    "import urllib.request\n",
    "import re\n",
    "import time\n",
    "\n",
    "def download( url ):\n",
    "\n",
    "    request = urllib.request.urlopen(url)\n",
    "    bytes = request.read()\n",
    "    fullText = bytes.decode(\"utf-8\")\n",
    "    request.close()\n",
    "\n",
    "    parts = re.split( '/' , url )\n",
    "    id = parts[-1]\n",
    "\n",
    "    out = open( id , 'w' , encoding = 'utf-8')\n",
    "    out.write( fullText )\n",
    "    out.close()\n",
    "    time.sleep( 3 )\n",
    "\n",
    "\n",
    "\n",
    "urls = [ 'http://www.gutenberg.org/files/580/580-0.txt' ,\n",
    "'http://www.gutenberg.org/files/1400/1400-0.txt' ,\n",
    "'http://www.gutenberg.org/files/786/786-0.txt' ,\n",
    "'http://www.gutenberg.org/files/766/766-0.txt' \n",
    "]\n",
    "\n",
    "for item in urls:\n",
    "    print(\"downloading \" + item + \" ...\")\n",
    "    download(item)"
   ]
  },
  {
   "cell_type": "markdown",
   "metadata": {},
   "source": [
    "# Wikipedia API"
   ]
  },
  {
   "cell_type": "code",
   "execution_count": null,
   "metadata": {},
   "outputs": [],
   "source": [
    "import urllib.request\n",
    "import json\n",
    "import pprint\n",
    "\n",
    "apiURL = 'https://en.wikipedia.org/w/api.php?action=opensearch&format=json&search='\n",
    "searchTerm = \"maastricht+leiden\"\n",
    "\n",
    "apiCall = apiURL + searchTerm\n",
    "\n",
    "wikiHeader = {'User-Agent':'p.a.f.verhaar@hum.leidenuniv.nl'}\n",
    "\n",
    "wikiRequest = urllib.request.Request(apiCall, headers=wikiHeader)\n",
    "\n",
    "request = urllib.request.urlopen(wikiRequest)\n",
    "responseData = request.read().decode()\n",
    "request.close()\n",
    "\n",
    "\n",
    "wikiResults = json.loads(responseData)\n",
    "\n",
    "\n",
    "for i in range( 0 , len(wikiResults[1]) ):\n",
    "    print( 'Title: ' + wikiResults[1][i] )\n",
    "    print( 'Tagline: ' + wikiResults[2][i] )\n",
    "    print( 'Url: ' + wikiResults[3][i] + '\\n')\n"
   ]
  },
  {
   "cell_type": "markdown",
   "metadata": {},
   "source": [
    "# Twitter API"
   ]
  },
  {
   "cell_type": "code",
   "execution_count": null,
   "metadata": {},
   "outputs": [],
   "source": [
    "from twython import Twython, TwythonError\n",
    "import re\n",
    "import time\n",
    "\n",
    "#fileName = time.strftime(\"%d%m%Y%H%M%S\")\n",
    "\n",
    "\n",
    "t = Twython(app_key= 'GA4x6zejqGBIs3wBJ44uRi9aq',\n",
    "            app_secret='nU1oY1xhI9QGSYeqNFaD5Q7NU4SV0WCWNyyWwo7aqyrViDDz3d',\n",
    "            oauth_token='17575499-PQsmouKqQ5E15lZq13dDHizX6LQ9dFb0hZAzTg501',\n",
    "            oauth_token_secret='h4bi6r3HMkMBTQ9XEGHzsqyBzSMas8v6V3iQ0JzUbrtXX')\n",
    "\n",
    "out = open(\"tweets.txt\" , \"w\")\n",
    "\n",
    "\n",
    "tag =  \"leidenUniversity\"\n",
    "\n",
    "\n",
    "try:\n",
    "    search = t.search(q='#' + tag  )\n",
    "    tweets = search['statuses']\n",
    "except TwythonError as e:\n",
    "    print( e )\n",
    "\n",
    "\n",
    "for tweet in tweets:\n",
    "    out.write( tweet['id_str'] + \"\\t\" )\n",
    "\n",
    "\n",
    "    out.write( tweet['created_at'] + \"\\t\" )\n",
    "    out.write( tweet['user']['name'] + \"\\t\" )\n",
    "    out.write( tweet['user']['location'] + \"\\t\" )\n",
    "    tweet['text'] = re.sub( r'\\s+' , ' ' , tweet['text']  )\n",
    "    out.write( tweet['text'] + '\\n' )\n",
    "\n",
    "\n",
    "out.close()"
   ]
  },
  {
   "cell_type": "markdown",
   "metadata": {},
   "source": [
    "# ORCID API"
   ]
  },
  {
   "cell_type": "code",
   "execution_count": null,
   "metadata": {},
   "outputs": [],
   "source": [
    "orcid = '0000-0002-8469-6804'\n",
    "\n",
    "\n",
    "import re\n",
    "import urllib.request\n",
    "import xml.etree.ElementTree as ET\n",
    "\n",
    "\n",
    "ns = {'o': 'http://www.orcid.org/ns/orcid' ,\n",
    "'s' : 'http://www.orcid.org/ns/search' ,\n",
    "'h': 'http://www.orcid.org/ns/history' ,\n",
    "'p': 'http://www.orcid.org/ns/person' ,\n",
    "'pd': 'http://www.orcid.org/ns/personal-details' ,\n",
    "'a': 'http://www.orcid.org/ns/activities' ,\n",
    "'e': 'http://www.orcid.org/ns/employment' ,\n",
    "'c': 'http://www.orcid.org/ns/common' , \n",
    "'w': 'http://www.orcid.org/ns/work'}\n",
    "\n",
    "def getXml( url):\n",
    "    fp = urllib.request.urlopen( url )\n",
    "    mybytes = fp.read()\n",
    "    xml = mybytes.decode(\"utf8\")\n",
    "    fp.close()\n",
    "    root = ET.fromstring(xml)\n",
    "    return root\n",
    "\n",
    "try:\n",
    "    orcidUrl = \"https://pub.orcid.org/v2.0/\" + orcid\n",
    "    \n",
    "    xml = getXml( orcidUrl )\n",
    "    \n",
    "    creationDate = xml.find('h:history/h:submission-date' , ns ).text\n",
    "    \n",
    "    print('\\nORCID created on:')\n",
    "    print(creationDate)\n",
    "    \n",
    "    print('\\nWorks:')\n",
    "    \n",
    "    works = xml.findall('a:activities-summary/a:works/a:group' , ns )\n",
    "    for w in works:\n",
    "        title = w.find('w:work-summary/w:title/c:title' , ns ).text\n",
    "        print(title)\n",
    "        doiEl = w.find('c:external-ids/c:external-id/c:external-id-url' , ns )\n",
    "        if doiEl is not None:\n",
    "            doi = doiEl.text\n",
    "            print(doi)\n",
    "            \n",
    "except:\n",
    "    print(\"Data could not be downloaded\")"
   ]
  },
  {
   "cell_type": "markdown",
   "metadata": {},
   "source": [
    "\n",
    "# OpenStreetMap API"
   ]
  },
  {
   "cell_type": "code",
   "execution_count": null,
   "metadata": {},
   "outputs": [],
   "source": [
    "\n",
    "import urllib.request\n",
    "import xml.etree.ElementTree as ET\n",
    "import re\n",
    "import string\n",
    "from os.path import isfile, join , isdir\n",
    "import os\n",
    "\n",
    "addresses = ['Grote Looiersstraat 17 Maastricht' , 'Witte Singel 27 Leiden']\n",
    "\n",
    "\n",
    "for a in addresses:\n",
    "    url = 'https://nominatim.openstreetmap.org/search?q='+ a + '&format=xml'\n",
    "    url = re.sub( '\\s+' , '%20' , url )\n",
    "\n",
    "    fp = urllib.request.urlopen( url )\n",
    "    mybytes = fp.read()\n",
    "    result = mybytes.decode(\"utf8\")\n",
    "    fp.close()\n",
    "    print( result )\n",
    "    root = ET.fromstring(result)\n",
    "    el = root.findall('place')\n",
    "    \n",
    "    count = 0\n",
    "    if el is not None:\n",
    "        for place in el:\n",
    "            count += 1\n",
    "            lat = place.attrib['lat']\n",
    "            lon = place.attrib['lon']\n",
    "            if count == 1:\n",
    "                print( '{},{}\\n'.format( lat , lon ) )\n",
    "\n"
   ]
  },
  {
   "cell_type": "markdown",
   "metadata": {},
   "source": [
    "# IIIF Image API\n",
    "\n",
    "Documentation: https://iiif.io/api/image/2.1/\n",
    "\n",
    "The following images (from the collection of the National Gallery of Art in Washingtn) are made available via IIIF.\n",
    "\n",
    "https://media.nga.gov/iiif/public/objects/1/0/6/3/8/2/106382-primary-0-nativeres.ptif/full/full/0/default.jpg\n",
    "\n",
    "https://media.nga.gov/iiif/public/objects/4/6/3/0/3/46303-primary-0-nativeres.ptif/full/full/0/default.jpg\n",
    "\n",
    "https://media.nga.gov/iiif/public/objects/1/1/3/8/1138-primary-0-nativeres.ptif/full/full/0/default.jpg\n",
    "\n",
    "\n",
    "Basic structure of URL according to IIIF Image API:\n",
    "{scheme}://{server}{/prefix}/{identifier}/{region}/{size}/{rotation}/{quality}.{format}\n",
    "\n",
    "\n",
    "You can request other manifestations of these images via the following parameters:\n",
    "\n",
    "* Region: Value 'full' or four numbers. In the latter case, the first two numbers define the starting point and the last two number specify the width and the height. \n",
    "* Size: Value 'full or 'two numbers which specify the width and the height. The second number can be omitted\n",
    "* Rotation: Number in between 0 or 359\n",
    "* Format: values 'default','gray' or 'bitonal', followed by extensons 'jpg', 'png' or 'gif'\n",
    "\n",
    "Sample query: \n",
    "https://media.nga.gov/iiif/public/objects/1/1/3/8/1138-primary-0-nativeres.ptif/20500,2000,20000,5000/500,/90/default.jpg\n",
    "\n",
    "Example of Manuscript reconstruction:Châteauroux, Bibliothèque municipale, ms. 5 (Grandes Chroniques de France)\n",
    "https://demos.biblissima.fr/chateauroux/demo/\n",
    "\n",
    "\n",
    "## IIIF Exercises\n",
    "\n",
    "Select one of the images listed above and try to request a version of the image with the following properties:\n",
    "*\tBitonal, rotated 90 degrees\n",
    "*\tImage with a width of 150 pixels (default size for a thumbnail)\n",
    "*\tZoom in on a specific detail of the image by specifying a region.\n",
    "\n",
    "You can test the API query in the cell below."
   ]
  },
  {
   "cell_type": "markdown",
   "metadata": {},
   "source": [
    "![IIIF IMAGE](https://media.nga.gov/iiif/public/objects/1/1/3/8/1138-primary-0-nativeres.ptif/20500,2000,20000,5000/500,/0/grey.jpg)"
   ]
  },
  {
   "cell_type": "markdown",
   "metadata": {},
   "source": [
    "# Webscraping"
   ]
  },
  {
   "cell_type": "code",
   "execution_count": null,
   "metadata": {},
   "outputs": [],
   "source": [
    "from bs4 import BeautifulSoup\n",
    "import urllib.request\n",
    "import re\n",
    "\n",
    "\n",
    "soup = \"\"\n",
    "\n",
    "## Project Gutenberg Bookshelves can be found at \n",
    "## https://www.gutenberg.org/wiki/Category:Bookshelf\n",
    "\n",
    "url = 'https://www.gutenberg.org/wiki/Philosophy_(Bookshelf)'\n",
    "\n",
    "\n",
    "\n",
    "request = urllib.request.urlopen(url)\n",
    "bytes = request.read()\n",
    "contents = bytes.decode(\"utf-8\")\n",
    "request.close()\n",
    "\n",
    "\n",
    "soup = BeautifulSoup(contents,\"lxml\")\n",
    "\n",
    "\n",
    "links = soup.find_all(\"a\")\n",
    "\n",
    "for l in links:\n",
    "    linktext = l.string\n",
    "    url = l.get(\"href\")\n",
    "\n",
    "    if re.search('gutenberg' , str(url) , re.IGNORECASE):\n",
    "        print(f\"{linktext}: {url}\")\n"
   ]
  }
 ],
 "metadata": {
  "kernelspec": {
   "display_name": "Python 3",
   "language": "python",
   "name": "python3"
  },
  "language_info": {
   "codemirror_mode": {
    "name": "ipython",
    "version": 3
   },
   "file_extension": ".py",
   "mimetype": "text/x-python",
   "name": "python",
   "nbconvert_exporter": "python",
   "pygments_lexer": "ipython3",
   "version": "3.7.2"
  }
 },
 "nbformat": 4,
 "nbformat_minor": 2
}
